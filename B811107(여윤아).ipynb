{
 "cells": [
  {
   "cell_type": "markdown",
   "metadata": {},
   "source": [
    "# TXT 파일 읽기"
   ]
  },
  {
   "cell_type": "code",
   "execution_count": 1,
   "metadata": {},
   "outputs": [
    {
     "name": "stdout",
     "output_type": "stream",
     "text": [
      "  id class math english science\n",
      "0                  1 1 50 98 50\n",
      "1                  2 1 60 97 60\n",
      "2                  3 1 45 86 78\n",
      "3                  4 1 30 98 58\n",
      "4                  5 2 25 80 65\n",
      "Index(['id class math english science'], dtype='object')\n"
     ]
    },
    {
     "data": {
      "text/plain": [
       "(5, 1)"
      ]
     },
     "execution_count": 1,
     "metadata": {},
     "output_type": "execute_result"
    }
   ],
   "source": [
    "import pandas as pd\n",
    "contents = pd.read_csv('exam.txt',header=0)\n",
    "print(contents)\n",
    "print(contents.columns)\n",
    "contents.shape"
   ]
  },
  {
   "cell_type": "code",
   "execution_count": 3,
   "metadata": {},
   "outputs": [
    {
     "name": "stdout",
     "output_type": "stream",
     "text": [
      "   id  class  math  english  science\n",
      "0   1      1    50       98       50\n",
      "1   2      1    60       97       60\n",
      "2   3      1    45       86       78\n",
      "3   4      1    30       98       58\n",
      "4   5      2    25       80       65\n",
      "Index(['id', 'class', 'math', 'english', 'science'], dtype='object')\n"
     ]
    },
    {
     "data": {
      "text/plain": [
       "(5, 5)"
      ]
     },
     "execution_count": 3,
     "metadata": {},
     "output_type": "execute_result"
    }
   ],
   "source": [
    "contents = pd.read_csv('exam.txt',header = 0, sep=' ')  #열 구분 가능\n",
    "print(contents)\n",
    "print(contents.columns)\n",
    "contents.shape"
   ]
  },
  {
   "cell_type": "code",
   "execution_count": 4,
   "metadata": {},
   "outputs": [
    {
     "data": {
      "text/plain": [
       "pandas.core.frame.DataFrame"
      ]
     },
     "execution_count": 4,
     "metadata": {},
     "output_type": "execute_result"
    }
   ],
   "source": [
    "type(contents)"
   ]
  },
  {
   "cell_type": "code",
   "execution_count": 8,
   "metadata": {},
   "outputs": [
    {
     "name": "stdout",
     "output_type": "stream",
     "text": [
      "   1  1.1  50  98  50.1\n",
      "0  2    1  60  97    60\n",
      "1  3    1  45  86    78\n",
      "2  4    1  30  98    58\n",
      "3  5    2  25  80    65\n",
      "Index(['1', '1.1', '50', '98', '50.1'], dtype='object')\n"
     ]
    },
    {
     "data": {
      "text/plain": [
       "(4, 5)"
      ]
     },
     "execution_count": 8,
     "metadata": {},
     "output_type": "execute_result"
    }
   ],
   "source": [
    "#header = 1로 읽을 때 -> 첫줄을 열 속성으로 인식\n",
    "contents = pd.read_csv('exam.txt', header = 1, sep = ' ') \n",
    "print(contents)\n",
    "print(contents.columns)\n",
    "\n",
    "contents.shape"
   ]
  },
  {
   "cell_type": "code",
   "execution_count": 9,
   "metadata": {},
   "outputs": [
    {
     "name": "stdout",
     "output_type": "stream",
     "text": [
      "    0      1     2        3        4\n",
      "0  id  class  math  english  science\n",
      "1   1      1    50       98       50\n",
      "2   2      1    60       97       60\n",
      "3   3      1    45       86       78\n",
      "4   4      1    30       98       58\n",
      "5   5      2    25       80       65\n"
     ]
    },
    {
     "data": {
      "text/plain": [
       "Int64Index([0, 1, 2, 3, 4], dtype='int64')"
      ]
     },
     "execution_count": 9,
     "metadata": {},
     "output_type": "execute_result"
    }
   ],
   "source": [
    "#header = none로 읽을 때 -> 첫줄부터 데이터로 인식\n",
    "contents = pd.read_csv('exam.txt', header = None, sep = ' ')\n",
    "print(contents)\n",
    "\n",
    "contents.columns"
   ]
  },
  {
   "cell_type": "code",
   "execution_count": 10,
   "metadata": {},
   "outputs": [
    {
     "name": "stdout",
     "output_type": "stream",
     "text": [
      "    ID\\t성별\\t나이\\t구매금액\\t출연자\\t반품여부\n",
      "0             1\\t1\\t33\\t2\\t2\\t0\n",
      "1             2\\t2\\t21\\t3\\t2\\t1\n",
      "2             3\\t1\\t45\\t1\\t1\\t0\n",
      "3             4\\t1\\t50\\t2\\t1\\t0\n",
      "4             5\\t1\\t21\\t3\\t1\\t1\n",
      "..                          ...\n",
      "495         496\\t1\\t38\\t1\\t1\\t0\n",
      "496         497\\t1\\t62\\t1\\t1\\t0\n",
      "497         498\\t1\\t38\\t1\\t1\\t0\n",
      "498         499\\t1\\t62\\t1\\t1\\t0\n",
      "499         500\\t1\\t62\\t1\\t1\\t0\n",
      "\n",
      "[500 rows x 1 columns]\n"
     ]
    }
   ],
   "source": [
    "contents = pd.read_csv('Hshopping.txt',header = 0, sep = ' ')\n",
    "print(contents)"
   ]
  },
  {
   "cell_type": "code",
   "execution_count": 11,
   "metadata": {},
   "outputs": [
    {
     "name": "stdout",
     "output_type": "stream",
     "text": [
      "      ID  성별  나이  구매금액  출연자  반품여부\n",
      "0      1   1  33     2    2     0\n",
      "1      2   2  21     3    2     1\n",
      "2      3   1  45     1    1     0\n",
      "3      4   1  50     2    1     0\n",
      "4      5   1  21     3    1     1\n",
      "..   ...  ..  ..   ...  ...   ...\n",
      "495  496   1  38     1    1     0\n",
      "496  497   1  62     1    1     0\n",
      "497  498   1  38     1    1     0\n",
      "498  499   1  62     1    1     0\n",
      "499  500   1  62     1    1     0\n",
      "\n",
      "[500 rows x 6 columns]\n"
     ]
    }
   ],
   "source": [
    "contents = pd.read_csv('Hshopping.txt',header = 0, sep = '\\s+') #공백 2개 이상으로 구분될 때\n",
    "print(contents)"
   ]
  },
  {
   "cell_type": "markdown",
   "metadata": {},
   "source": [
    "# TXT 파일 쓰기"
   ]
  },
  {
   "cell_type": "code",
   "execution_count": 12,
   "metadata": {},
   "outputs": [
    {
     "name": "stdout",
     "output_type": "stream",
     "text": [
      "      make    model price\n",
      "0  Hyundai  Santafe  1000\n",
      "1      Kai       K9   900\n",
      "2    Tesia        Y  2000\n",
      "3   Toyota   Avalon  2500\n"
     ]
    }
   ],
   "source": [
    "cars = {'make': ['Hyundai', 'Kai','Tesia','Toyota'],\n",
    "       'model' : ['Santafe','K9','Y','Avalon'],\n",
    "       'price' : ['1000','900','2000','2500']}\n",
    "\n",
    "df = pd.DataFrame(cars)\n",
    "print(df)"
   ]
  },
  {
   "cell_type": "code",
   "execution_count": 28,
   "metadata": {},
   "outputs": [],
   "source": [
    "write_txt = df.to_csv('cars1.txt', sep = ' ')"
   ]
  },
  {
   "cell_type": "code",
   "execution_count": 15,
   "metadata": {},
   "outputs": [],
   "source": [
    "write_txt = df.to_csv('cars1.txt', sep = ' ',index = False)"
   ]
  },
  {
   "cell_type": "markdown",
   "metadata": {},
   "source": [
    "# Excel 파일 읽기"
   ]
  },
  {
   "cell_type": "code",
   "execution_count": 14,
   "metadata": {},
   "outputs": [
    {
     "name": "stdout",
     "output_type": "stream",
     "text": [
      "0      22000\n",
      "1      15000\n",
      "2      16000\n",
      "3      14000\n",
      "4      13000\n",
      "5      19000\n",
      "6      12000\n",
      "7      13000\n",
      "8      10000\n",
      "9      11000\n",
      "10     12000\n",
      "11     22000\n",
      "12    179000\n",
      "Name: 한국, dtype: int64\n"
     ]
    }
   ],
   "source": [
    "data = pd.read_excel('sample1.xlsx',header = 0)\n",
    "df1 = pd.DataFrame(data)\n",
    "print(df1['한국'])"
   ]
  },
  {
   "cell_type": "markdown",
   "metadata": {},
   "source": [
    "# Excel 파일 쓰기"
   ]
  },
  {
   "cell_type": "code",
   "execution_count": 16,
   "metadata": {},
   "outputs": [],
   "source": [
    "df3 = pd.DataFrame(cars)\n",
    "export_excel = df3.to_excel('test.xlsx', index = None, header = 1)"
   ]
  },
  {
   "cell_type": "code",
   "execution_count": 17,
   "metadata": {},
   "outputs": [
    {
     "name": "stdout",
     "output_type": "stream",
     "text": [
      "      algol basic c++\n",
      "name                 \n",
      "Jerry     A     C  B+\n",
      "Riah     A+     B   C\n",
      "Paul      B    B+  C+\n",
      "\n",
      "\n",
      "    c1  c2  c3  c4\n",
      "c0                \n",
      "1    4   7  10  13\n",
      "2    5   8  11  14\n",
      "3    6   9  12  15\n"
     ]
    }
   ],
   "source": [
    "data1 = {'name' : ['Jerry','Riah','Paul'],\n",
    "        'algol' : ['A','A+','B'],\n",
    "        'basic' : ['C','B','B+'],\n",
    "        'c++' : ['B+','C','C+']}\n",
    "\n",
    "data2 = {'c0' : [1,2,3],\n",
    "        'c1' : [4,5,6],\n",
    "        'c2' : [7,8,9],\n",
    "        'c3' : [10,11,12],\n",
    "        'c4' : [13,14,15]}\n",
    "\n",
    "df1 = pd.DataFrame(data1)\n",
    "df1.set_index('name',inplace = True)\n",
    "\n",
    "df2 = pd.DataFrame(data2)\n",
    "df2.set_index('c0', inplace = True)\n",
    "\n",
    "print(df1)\n",
    "print('\\n')\n",
    "print(df2)"
   ]
  },
  {
   "cell_type": "code",
   "execution_count": 18,
   "metadata": {},
   "outputs": [],
   "source": [
    "writer = pd.ExcelWriter('test_excel.xlsx')\n",
    "df1.to_excel(writer, sheet_name = '1번 시트')\n",
    "df2.to_excel(writer, sheet_name = '2번 시트')\n",
    "writer.save()"
   ]
  },
  {
   "cell_type": "markdown",
   "metadata": {},
   "source": [
    "# Json 파일 읽기"
   ]
  },
  {
   "cell_type": "code",
   "execution_count": 19,
   "metadata": {},
   "outputs": [
    {
     "name": "stdout",
     "output_type": "stream",
     "text": [
      "<class 'dict'>\n",
      "{'K5': {'price': '5000', 'year': '2015'}, 'Avante': {'price': '3000', 'year': '2014'}}\n",
      "{\"K5\": {\"price\": \"5000\", \"year\": \"2015\"}, \"Avante\": {\"price\": \"3000\", \"year\": \"2014\"}}\n",
      "{\n",
      "\t\"K5\": {\n",
      "\t\t\"price\": \"5000\",\n",
      "\t\t\"year\": \"2015\"\n",
      "\t},\n",
      "\t\"Avante\": {\n",
      "\t\t\"price\": \"3000\",\n",
      "\t\t\"year\": \"2014\"\n",
      "\t}\n",
      "}\n"
     ]
    }
   ],
   "source": [
    "import json\n",
    "with open('test.json', 'r') as f:\n",
    "    json_data = json.load(f)\n",
    "    \n",
    "print(type(json_data))\n",
    "print(json_data)\n",
    "print(json.dumps(json_data))\n",
    "\n",
    "print(json.dumps(json_data, indent='\\t'))"
   ]
  },
  {
   "cell_type": "code",
   "execution_count": 20,
   "metadata": {},
   "outputs": [
    {
     "name": "stdout",
     "output_type": "stream",
     "text": [
      "         K5  Avante\n",
      "price  5000    3000\n",
      "year   2015    2014\n",
      "\n",
      "\n",
      "Index(['price', 'year'], dtype='object')\n",
      "Index(['K5', 'Avante'], dtype='object')\n"
     ]
    }
   ],
   "source": [
    "df = pd.read_json('test.json')\n",
    "print(df)\n",
    "print('\\n')\n",
    "print(df.index)\n",
    "print(df.columns)"
   ]
  },
  {
   "cell_type": "code",
   "execution_count": 21,
   "metadata": {},
   "outputs": [
    {
     "name": "stdout",
     "output_type": "stream",
     "text": [
      "5000\n",
      "7000\n"
     ]
    }
   ],
   "source": [
    "k5_price = json_data['K5']['price']\n",
    "print(k5_price)\n",
    "\n",
    "json_data['K5']['price'] = '7000'\n",
    "print(json_data['K5']['price'])"
   ]
  },
  {
   "cell_type": "markdown",
   "metadata": {},
   "source": [
    "# Json 파일 쓰기"
   ]
  },
  {
   "cell_type": "code",
   "execution_count": 22,
   "metadata": {},
   "outputs": [
    {
     "name": "stdout",
     "output_type": "stream",
     "text": [
      "{\n",
      "\t\"K5\": {\n",
      "\t\t\"price\": \"7000\",\n",
      "\t\t\"year\": \"2015\"\n",
      "\t},\n",
      "\t\"Avante\": {\n",
      "\t\t\"price\": \"3000\",\n",
      "\t\t\"year\": \"2014\"\n",
      "\t}\n",
      "}\n"
     ]
    }
   ],
   "source": [
    "with open('test.json','w',encoding='utf-8') as make_file:\n",
    "    json.dump(json_data, make_file, indent='\\t')\n",
    "\n",
    "with open('test.json', 'r') as f:\n",
    "    json_data = json.load(f)\n",
    "print(json.dumps(json_data, indent ='\\t'))"
   ]
  },
  {
   "cell_type": "code",
   "execution_count": 24,
   "metadata": {},
   "outputs": [],
   "source": [
    "car_group = dict()\n",
    "k5 = dict()\n",
    "k5['price'] = '5000'\n",
    "k5['year'] = '2015'\n",
    "car_group['k5'] = k5\n",
    "avante = dict()\n",
    "avante['price'] = '3000'\n",
    "avante['year'] = '2014'\n",
    "car_group['Avante'] = avante"
   ]
  },
  {
   "cell_type": "code",
   "execution_count": 25,
   "metadata": {},
   "outputs": [
    {
     "data": {
      "text/plain": [
       "{'price': '5000', 'year': '2015'}"
      ]
     },
     "execution_count": 25,
     "metadata": {},
     "output_type": "execute_result"
    }
   ],
   "source": [
    "k5"
   ]
  },
  {
   "cell_type": "code",
   "execution_count": 26,
   "metadata": {},
   "outputs": [
    {
     "data": {
      "text/plain": [
       "{'k5': {'price': '5000', 'year': '2015'},\n",
       " 'Avante': {'price': '3000', 'year': '2014'}}"
      ]
     },
     "execution_count": 26,
     "metadata": {},
     "output_type": "execute_result"
    }
   ],
   "source": [
    "car_group"
   ]
  }
 ],
 "metadata": {
  "kernelspec": {
   "display_name": "Python 3",
   "language": "python",
   "name": "python3"
  },
  "language_info": {
   "codemirror_mode": {
    "name": "ipython",
    "version": 3
   },
   "file_extension": ".py",
   "mimetype": "text/x-python",
   "name": "python",
   "nbconvert_exporter": "python",
   "pygments_lexer": "ipython3",
   "version": "3.7.4"
  }
 },
 "nbformat": 4,
 "nbformat_minor": 2
}
